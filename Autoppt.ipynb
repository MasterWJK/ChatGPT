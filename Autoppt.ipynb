{
 "cells": [
  {
   "cell_type": "code",
   "execution_count": 2,
   "metadata": {},
   "outputs": [],
   "source": [
    "# Import the necessary libraries\n",
    "import pptx\n",
    "from pptx import Presentation\n",
    "from pptx.util import Inches\n",
    "\n",
    "# Create a new PowerPoint presentation\n",
    "prs = Presentation()\n",
    "\n",
    "# Add a new slide with a title\n",
    "slide_title = prs.slide_layouts[0]\n",
    "slide = prs.slides.add_slide(slide_title)\n",
    "title = slide.shapes.title\n",
    "title.text = 'ChatGPT Mechanism'\n",
    "\n",
    "# Add a bullet point list of features\n",
    "bullet_points = ['Language Model', 'Deep Learning', 'Transformer Model', 'Trained on large corpus of text data']\n",
    "for point in bullet_points:\n",
    "    slide.shapes.add_textbox(Inches(2), Inches(2), Inches(3), Inches(1)).text_frame.text = point\n",
    "\n",
    "# Add an image\n",
    "img_path = 'image/chatgpt-openai.jpeg'\n",
    "left = Inches(2)\n",
    "top = Inches(2)\n",
    "height = Inches(4)\n",
    "\n",
    "# Save the presentation\n",
    "\n",
    "prs.save('presentations/chatgpt.pptx')"
   ]
  }
 ],
 "metadata": {
  "kernelspec": {
   "display_name": "base",
   "language": "python",
   "name": "python3"
  },
  "language_info": {
   "codemirror_mode": {
    "name": "ipython",
    "version": 3
   },
   "file_extension": ".py",
   "mimetype": "text/x-python",
   "name": "python",
   "nbconvert_exporter": "python",
   "pygments_lexer": "ipython3",
   "version": "3.9.13"
  },
  "orig_nbformat": 4
 },
 "nbformat": 4,
 "nbformat_minor": 2
}
